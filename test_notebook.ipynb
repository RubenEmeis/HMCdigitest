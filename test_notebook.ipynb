{
 "cells": [
  {
   "cell_type": "markdown",
   "id": "ab4e113a",
   "metadata": {},
   "source": [
    "## *Welcome!*\n",
    "\n",
    "This is a test notebook to verify you can succesfully run Jupyter notebooks within the HMC Digitalization JupyterHub test environment. \n",
    "\n",
    "For any questions please contact Ruben Emeis (remeis@hmc-heerema.com)"
   ]
  },
  {
   "cell_type": "code",
   "execution_count": null,
   "id": "c429b3cb",
   "metadata": {},
   "outputs": [],
   "source": [
    "__author__ = \"Ruben Emeis\"\n",
    "__version__ = \"0.1.0\"\n",
    "\n",
    "import matplotlib.pyplot as plt\n",
    "import pandas as pd\n",
    "import numpy as np\n",
    "import plotly.express as px"
   ]
  },
  {
   "cell_type": "code",
   "execution_count": null,
   "id": "c27adf31",
   "metadata": {},
   "outputs": [],
   "source": [
    "#Test pandas, matplotlib\n",
    "ts = pd.Series(np.random.randn(1000), index=pd.date_range(\"1/1/2000\", periods=1000))\n",
    "\n",
    "ts = ts.cumsum()\n",
    "\n",
    "df = pd.DataFrame(np.random.randn(1000, 4), index=ts.index, columns=list(\"ABCD\"))\n",
    "\n",
    "df = df.cumsum()\n",
    "\n",
    "plt.figure();\n",
    "\n",
    "df.plot();"
   ]
  },
  {
   "cell_type": "code",
   "execution_count": null,
   "id": "27537db2",
   "metadata": {},
   "outputs": [],
   "source": [
    "#Test plotly\n",
    "fig = px.line(df, x=df.index, y=\"A\", title='Plotly test')\n",
    "fig.show()"
   ]
  }
 ],
 "metadata": {
  "kernelspec": {
   "display_name": "Python 3 (ipykernel)",
   "language": "python",
   "name": "python3"
  },
  "language_info": {
   "codemirror_mode": {
    "name": "ipython",
    "version": 3
   },
   "file_extension": ".py",
   "mimetype": "text/x-python",
   "name": "python",
   "nbconvert_exporter": "python",
   "pygments_lexer": "ipython3",
   "version": "3.9.7"
  }
 },
 "nbformat": 4,
 "nbformat_minor": 5
}
